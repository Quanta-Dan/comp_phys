{
 "cells": [
  {
   "cell_type": "code",
   "execution_count": 1,
   "metadata": {},
   "outputs": [
    {
     "ename": "ValueError",
     "evalue": "Maximum number of iterations reached during power_method. epsilon = 1.024745022545758e-06  ",
     "output_type": "error",
     "traceback": [
      "\u001b[1;31m---------------------------------------------------------------------------\u001b[0m",
      "\u001b[1;31mValueError\u001b[0m                                Traceback (most recent call last)",
      "\u001b[1;32mc:\\Users\\Daniel\\Documents\\UNI\\HU-Berlin\\Comp Physics 2\\comp_phys\\ground_state.ipynb Cell 1\u001b[0m line \u001b[0;36m4\n\u001b[0;32m     <a href='vscode-notebook-cell:/c%3A/Users/Daniel/Documents/UNI/HU-Berlin/Comp%20Physics%202/comp_phys/ground_state.ipynb#W0sZmlsZQ%3D%3D?line=44'>45</a>\u001b[0m functions\u001b[39m.\u001b[39mepsilon_2 \u001b[39m=\u001b[39m epsilon_2\n\u001b[0;32m     <a href='vscode-notebook-cell:/c%3A/Users/Daniel/Documents/UNI/HU-Berlin/Comp%20Physics%202/comp_phys/ground_state.ipynb#W0sZmlsZQ%3D%3D?line=46'>47</a>\u001b[0m \u001b[39m#calculate lowest eigenvalue and eigenvector\u001b[39;00m\n\u001b[1;32m---> <a href='vscode-notebook-cell:/c%3A/Users/Daniel/Documents/UNI/HU-Berlin/Comp%20Physics%202/comp_phys/ground_state.ipynb#W0sZmlsZQ%3D%3D?line=47'>48</a>\u001b[0m lowest_EigValue, lowest_EigVector \u001b[39m=\u001b[39m lowest_eigenvalue_vector(hamiltonian_function,  power_method_tolerance \u001b[39m=\u001b[39m \u001b[39m1.e-6\u001b[39m, conjugate_gradient_tolerance \u001b[39m=\u001b[39m \u001b[39m1.e-12\u001b[39m, max_iters_power_method \u001b[39m=\u001b[39m \u001b[39m100000\u001b[39m, max_iters_conjugate_gradient\u001b[39m=\u001b[39m \u001b[39m10000\u001b[39m)\n",
      "File \u001b[1;32mc:\\Users\\Daniel\\Documents\\UNI\\HU-Berlin\\Comp Physics 2\\comp_phys\\functions.py:248\u001b[0m, in \u001b[0;36mlowest_eigenvalue_vector\u001b[1;34m(apply_A, power_method_tolerance, conjugate_gradient_tolerance, max_iters_power_method, max_iters_conjugate_gradient)\u001b[0m\n\u001b[0;32m    246\u001b[0m shape \u001b[39m=\u001b[39m (N,)\u001b[39m*\u001b[39mD\n\u001b[0;32m    247\u001b[0m b \u001b[39m=\u001b[39m rng\u001b[39m.\u001b[39mstandard_normal(size\u001b[39m=\u001b[39mshape) \u001b[39m+\u001b[39m \u001b[39m1\u001b[39mj \u001b[39m*\u001b[39m rng\u001b[39m.\u001b[39mstandard_normal(size\u001b[39m=\u001b[39mshape)\n\u001b[1;32m--> 248\u001b[0m \u001b[39mreturn\u001b[39;00m power_method_EV(b\u001b[39m.\u001b[39mshape,conjugate_gradient_EV)\n",
      "File \u001b[1;32mc:\\Users\\Daniel\\Documents\\UNI\\HU-Berlin\\Comp Physics 2\\comp_phys\\functions.py:217\u001b[0m, in \u001b[0;36mlowest_eigenvalue_vector.<locals>.power_method_EV\u001b[1;34m(vshape, apply_A, epsilon, max_iters)\u001b[0m\n\u001b[0;32m    215\u001b[0m     niters\u001b[39m+\u001b[39m\u001b[39m=\u001b[39m\u001b[39m1\u001b[39m\n\u001b[0;32m    216\u001b[0m \u001b[39mif\u001b[39;00m niters \u001b[39m>\u001b[39m\u001b[39m=\u001b[39m max_iters:\n\u001b[1;32m--> 217\u001b[0m     \u001b[39mraise\u001b[39;00m \u001b[39mValueError\u001b[39;00m(\u001b[39mf\u001b[39m\u001b[39m\"\u001b[39m\u001b[39mMaximum number of iterations reached during power_method. epsilon = \u001b[39m\u001b[39m{\u001b[39;00mres\u001b[39m}\u001b[39;00m\u001b[39m  \u001b[39m\u001b[39m\"\u001b[39m)        \n\u001b[0;32m    220\u001b[0m \u001b[39mreturn\u001b[39;00m mu, v\n",
      "\u001b[1;31mValueError\u001b[0m: Maximum number of iterations reached during power_method. epsilon = 1.024745022545758e-06  "
     ]
    }
   ],
   "source": [
    "import functions\n",
    "from functions import *\n",
    "import pandas as pd\n",
    "\n",
    "file_path = 'parameters.csv'\n",
    "\n",
    "\n",
    "\n",
    "def check_columns_defined(df):\n",
    "    required_columns = ['D', 'N','epsilon_2', 'mu']\n",
    "\n",
    "    for col in required_columns:\n",
    "        assert col in df.columns, f\"Column '{col}' is not defined in the CSV file.\"\n",
    "\n",
    "\n",
    "# Read the CSV file into a DataFrame\n",
    "try:\n",
    "    input_param = pd.read_csv(file_path, header=0)\n",
    "except FileNotFoundError:\n",
    "    print(f\"Error: File '{file_path}' not found.\")\n",
    "    exit(1)\n",
    "except pd.errors.EmptyDataError:\n",
    "    print(f\"Error: File '{file_path}' is empty.\")\n",
    "    exit(1)\n",
    "except pd.errors.ParserError:\n",
    "    print(f\"Error: Unable to parse file '{file_path}'. Check if it's a valid CSV file.\")\n",
    "    exit(1)\n",
    "\n",
    "\n",
    "\n",
    "#check all columns are defined\n",
    "check_columns_defined(input_param)\n",
    "#import values from csv\n",
    "epsilon_2= input_param[\"epsilon_2\"].iloc[0]\n",
    "N = input_param[\"N\"].iloc[0]\n",
    "#epsilon = L_over_r/N\n",
    "D = input_param[\"D\"].iloc[0]\n",
    "mu = input_param[\"mu\"].iloc[0]\n",
    "#epsilon_2 = epsilon**2\n",
    "#broadcast values to functions\n",
    "functions.N = N\n",
    "functions.D = D\n",
    "functions.mu = mu\n",
    "functions.epsilon = np.sqrt(epsilon_2)\n",
    "functions.epsilon_2 = epsilon_2\n",
    "\n",
    "#calculate lowest eigenvalue and eigenvector\n",
    "lowest_EigValue, lowest_EigVector = lowest_eigenvalue_vector(hamiltonian_function,  power_method_tolerance = 1.e-5, conjugate_gradient_tolerance = 1.e-5, max_iters_power_method = 10000, max_iters_conjugate_gradient= 10000)\n"
   ]
  },
  {
   "cell_type": "code",
   "execution_count": null,
   "metadata": {},
   "outputs": [],
   "source": [
    "\n",
    "# #write eigenvector to csv\n",
    "df_EigVector = pd.DataFrame(lowest_EigVector)\n",
    "df_EigVector.to_csv(f'eigenvector_{D, N, epsilon_2, mu}.csv', header=None, index=None, sep = ',')\n",
    "\n",
    "# Initialize arbitrary plane wave function\n",
    "psi = lowest_EigVector\n",
    "\n",
    "# Printing the expectation energy for the given wave function psi\n",
    "print(\"Expectation Energy:\", expectation_energy(psi))\n",
    "\n",
    "# Printing the expectation momentum for the given wave function psi\n",
    "print(\"Expectation Momentum:\", expectation_momentum(psi))\n",
    "\n",
    "# Printing the expectation position for the given wave function psi\n",
    "print(\"Expectation Position:\", expectation_position(psi))\n",
    "\n",
    "# Printing the indetermination of momentum for the given wave function psi\n",
    "print(\"Indetermination Momentum:\", indetermination_momentum(psi))\n",
    "\n",
    "# Printing the indetermination of position for the given wave function psi\n",
    "print(\"Indetermination Position:\", indetermination_position(psi))\n",
    "\n",
    "# Printing the probability for x greater than 0 for the given wave function psi\n",
    "print(\"Probability for x > 0:\", probability_xg0(psi))"
   ]
  }
 ],
 "metadata": {
  "kernelspec": {
   "display_name": "base",
   "language": "python",
   "name": "python3"
  },
  "language_info": {
   "codemirror_mode": {
    "name": "ipython",
    "version": 3
   },
   "file_extension": ".py",
   "mimetype": "text/x-python",
   "name": "python",
   "nbconvert_exporter": "python",
   "pygments_lexer": "ipython3",
   "version": "3.11.5"
  }
 },
 "nbformat": 4,
 "nbformat_minor": 2
}
