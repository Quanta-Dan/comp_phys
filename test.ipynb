{
 "cells": [
  {
   "cell_type": "markdown",
   "metadata": {},
   "source": [
    "# Tests of Hamiltonian"
   ]
  },
  {
   "cell_type": "markdown",
   "metadata": {},
   "source": [
    "### Linearity\n",
    "\n",
    "For any wavefunctions $\\hat{\\Psi}$, $\\hat{\\Phi}$ and complex numbers $\\alpha, \\beta$ the following equation is true:\n",
    "\n",
    "$\\hat{H}(\\alpha\\hat{\\Psi}+ \\beta\\hat{\\Phi}) = \\alpha(\\hat{H}\\hat{\\Psi}) + \\beta(\\hat{H}\\hat{\\Phi})$"
   ]
  },
  {
   "cell_type": "code",
   "execution_count": 1,
   "metadata": {},
   "outputs": [],
   "source": [
    "# Proof of linearity\n",
    "\n",
    "# imports and global variables\n",
    "\n",
    "import functions\n",
    "from functions import *\n",
    "rng = functions.rng\n",
    "N = 3\n",
    "functions.N = N\n",
    "D = 2\n",
    "functions.D = D\n",
    "functions.mu = 10\n",
    "functions.epsilon_2 = 0.001\n",
    "\n",
    "\n",
    "# generate random complex numbers\n",
    "alpha = rng.standard_normal() + 1j * rng.standard_normal()\n",
    "beta = rng.standard_normal() + 1j * rng.standard_normal()\n",
    "\n",
    "# generate random wavefunctions as complex arrays\n",
    "psi = generate_complex_ndarray(N,D)\n",
    "phi = generate_complex_ndarray(N,D)\n",
    "\n",
    "# assert equation is true\n",
    "np.testing.assert_array_almost_equal(\n",
    "      hamiltonian_function(alpha*psi+beta*phi),\n",
    "      alpha*hamiltonian_function(psi) +beta*hamiltonian_function(phi) )\n"
   ]
  },
  {
   "cell_type": "markdown",
   "metadata": {},
   "source": [
    "### Hermiticity\n",
    "\n",
    "For any wavefunctions $\\hat{\\Psi}$ and $\\hat{\\Phi}$  the following equation is true:\n",
    "\n",
    "$( \\hat{\\Psi},\\hat{H} \\hat{\\Phi}) = ( \\hat{H}\\hat{\\Psi}, \\hat{\\Phi})$"
   ]
  },
  {
   "cell_type": "code",
   "execution_count": 2,
   "metadata": {},
   "outputs": [],
   "source": [
    "# proof of hermiticity\n",
    "\n",
    "# imports and global variables\n",
    "\n",
    "import functions\n",
    "from functions import *\n",
    "rng = functions.rng\n",
    "N = 3\n",
    "functions.N = N\n",
    "D = 2\n",
    "functions.D = D\n",
    "functions.mu = 10\n",
    "functions.epsilon_2 = 0.001\n",
    "\n",
    "\n",
    "# generate random wavefunctions as complex arrays\n",
    "psi = generate_complex_ndarray(N,D)\n",
    "phi = generate_complex_ndarray(N,D)\n",
    "\n",
    "# assert equation is true\n",
    "np.testing.assert_array_almost_equal(\n",
    "    np.vdot(psi,hamiltonian_function(phi)),\n",
    "    np.vdot(hamiltonian_function(psi),phi))"
   ]
  },
  {
   "cell_type": "markdown",
   "metadata": {},
   "source": [
    "### Positivity\n",
    "\n",
    "For any wavefunctions $\\hat{\\Psi}$, while $V\\ge 0$   the following equation is true:\n",
    "\n",
    "$( \\hat{\\Psi},\\hat{H} \\hat{\\Psi}) \\ge 0$"
   ]
  },
  {
   "cell_type": "code",
   "execution_count": 25,
   "metadata": {},
   "outputs": [],
   "source": [
    "# proof of positivity\n",
    "# imports and global variables\n",
    "\n",
    "import functions\n",
    "from functions import *\n",
    "rng = functions.rng\n",
    "N = 3\n",
    "functions.N = N\n",
    "D = 2\n",
    "functions.D = D\n",
    "functions.mu = 10\n",
    "functions.epsilon_2 = 0.001\n",
    "\n",
    "\n",
    "# generate random wavefunctions as complex arrays\n",
    "psi = generate_complex_ndarray(N,D)\n",
    "\n",
    "# assert equation is true\n",
    "assert   np.vdot(psi,hamiltonian_function(psi))>=0"
   ]
  }
 ],
 "metadata": {
  "kernelspec": {
   "display_name": "base",
   "language": "python",
   "name": "python3"
  },
  "language_info": {
   "codemirror_mode": {
    "name": "ipython",
    "version": 3
   },
   "file_extension": ".py",
   "mimetype": "text/x-python",
   "name": "python",
   "nbconvert_exporter": "python",
   "pygments_lexer": "ipython3",
   "version": "3.11.5"
  }
 },
 "nbformat": 4,
 "nbformat_minor": 2
}
