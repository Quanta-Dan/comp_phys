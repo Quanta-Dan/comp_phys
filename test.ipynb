{
 "cells": [
  {
   "cell_type": "markdown",
   "metadata": {},
   "source": [
    "# Tests of Hamiltonian"
   ]
  },
  {
   "cell_type": "markdown",
   "metadata": {},
   "source": [
    "### Linearity\n",
    "\n",
    "For any wavefunctions $\\hat{\\Psi}$, $\\hat{\\Phi}$ and complex numbers $\\alpha, \\beta$ the following equation is true:\n",
    "\n",
    "$\\hat{H}(\\alpha\\hat{\\Psi}+ \\beta\\hat{\\Phi}) = \\alpha(\\hat{H}\\hat{\\Psi}) + \\beta(\\hat{H}\\hat{\\Phi})$"
   ]
  },
  {
   "cell_type": "code",
   "execution_count": 19,
   "metadata": {},
   "outputs": [],
   "source": [
    "# Proof of linearity\n",
    "\n",
    "# Imports and global variables\n",
    "import functions\n",
    "from functions import *\n",
    "rng = functions.rng\n",
    "for i in range(1,4):\n",
    "    # Dimensions from 1 to 3 (higher possible)\n",
    "    D = i\n",
    "    # Number of lattice points 100\n",
    "    N= 100\n",
    "    functions.N = N\n",
    "    functions.D = D\n",
    "    functions.mu = 10\n",
    "    functions.epsilon_2 = 0.001\n",
    "\n",
    "\n",
    "    # Generate random complex numbers\n",
    "    alpha = rng.standard_normal() + 1j * rng.standard_normal()\n",
    "    beta = rng.standard_normal() + 1j * rng.standard_normal()\n",
    "\n",
    "    # Generate random wavefunctions as complex arrays\n",
    "    psi = generate_complex_ndarray(N,D)\n",
    "    phi = generate_complex_ndarray(N,D)\n",
    "\n",
    "\n",
    "    compound = hamiltonian_function(alpha*psi+beta*phi)\n",
    "    single = alpha*hamiltonian_function(psi) +beta*hamiltonian_function(phi)  \n",
    "\n",
    "    # Assert two terms are equal\n",
    "    relative_tolerance = 10**(-14+np.ceil(np.log10(N)))\n",
    "    assert np.allclose(compound, single, atol = 0, rtol=relative_tolerance)\n"
   ]
  },
  {
   "cell_type": "markdown",
   "metadata": {},
   "source": [
    "### Hermiticity\n",
    "\n",
    "For any wavefunctions $\\hat{\\Psi}$ and $\\hat{\\Phi}$  the following equation is true:\n",
    "\n",
    "$( \\hat{\\Psi},\\hat{H} \\hat{\\Phi}) = ( \\hat{H}\\hat{\\Psi}, \\hat{\\Phi})$"
   ]
  },
  {
   "cell_type": "code",
   "execution_count": 20,
   "metadata": {},
   "outputs": [],
   "source": [
    "# proof of hermiticity\n",
    "\n",
    "# Imports and global variables\n",
    "\n",
    "import functions\n",
    "from functions import *\n",
    "rng = functions.rng\n",
    "for i in range(1,4):\n",
    "    # Dimensions from 1 to 3 (higher possible)\n",
    "    D = i\n",
    "    # Number of lattice points 100\n",
    "    N= 100\n",
    "    functions.N = N\n",
    "    functions.D = D\n",
    "    functions.mu = 10\n",
    "    functions.epsilon_2 = 0.001\n",
    "\n",
    "\n",
    "    # Generate random wavefunctions as complex arrays\n",
    "    psi = generate_complex_ndarray(N,D)\n",
    "    phi = generate_complex_ndarray(N,D)\n",
    "    Psi_H_Phi = np.vdot(psi,hamiltonian_function(phi))\n",
    "    H_Psi_Phi = np.vdot(hamiltonian_function(psi),phi)\n",
    "    # assert equation is true\n",
    "    relative_tolerance = 10**(-14+np.ceil(np.log10(N)))\n",
    "    assert np.allclose(Psi_H_Phi, H_Psi_Phi, atol = 0, rtol=relative_tolerance)"
   ]
  },
  {
   "cell_type": "markdown",
   "metadata": {},
   "source": [
    "### Positivity\n",
    "\n",
    "For any wavefunctions $\\hat{\\Psi}$, while $V\\ge 0$   the following equation is true:\n",
    "\n",
    "$( \\hat{\\Psi},\\hat{H} \\hat{\\Psi}) \\ge 0$"
   ]
  },
  {
   "cell_type": "code",
   "execution_count": 3,
   "metadata": {},
   "outputs": [],
   "source": [
    "# proof of positivity\n",
    "# imports and global variables\n",
    "\n",
    "import functions\n",
    "from functions import *\n",
    "rng = functions.rng\n",
    "N = 3\n",
    "functions.N = N\n",
    "D = 2\n",
    "functions.D = D\n",
    "functions.mu = 10\n",
    "functions.epsilon_2 = 0.001\n",
    "\n",
    "\n",
    "# generate random wavefunctions as complex arrays\n",
    "psi = generate_complex_ndarray(N,D)\n",
    "\n",
    "# assert equation is true\n",
    "assert   np.vdot(psi,kinetic_energy_function(psi))>=0\n",
    "assert   np.vdot(psi,hamiltonian_function(psi))>=0"
   ]
  },
  {
   "cell_type": "markdown",
   "metadata": {},
   "source": [
    "### Eigenvalues and eingenvectors\n",
    "\n",
    "If $V =  0$ then the plane waves described by:\n",
    "\n",
    " $\\hat{\\Psi}_\\bold{k}(\\bold{n})=\\frac{2\\pi i \\bold{n} \\bold{k}}{N}\\space, \\space \\bold{k} \\in \\Z$,\n",
    "\n",
    "are the eigenfunctions of \\hat{H}. As such the eigenvalue equation is fullfilled:\n",
    "\n",
    "$\\hat{H} \\hat{\\Psi}_\\bold{k} = E_\\bold{k}\\hat{\\Psi}_\\bold{k}$\n"
   ]
  },
  {
   "cell_type": "code",
   "execution_count": 5,
   "metadata": {},
   "outputs": [],
   "source": [
    "#Proof of eigenvalue equation\n",
    "\n",
    "# imports and global variables\n",
    "\n",
    "import functions\n",
    "from functions import *\n",
    "\n",
    "for i in range(1,4):\n",
    "    # Dimensions from 1 to 3 (higher possible)\n",
    "    D = i\n",
    "    # Number of lattice points  100\n",
    "    N = 100\n",
    "    L_over_r = 3\n",
    "\n",
    "    epsilon = L_over_r/N\n",
    "    mu = 10\n",
    "    epsilon_2 = epsilon**2\n",
    "    functions.N = N\n",
    "    functions.D = D\n",
    "    functions.mu = mu\n",
    "    functions.epsilon_2 = epsilon_2\n",
    "\n",
    "    # Initialize plane wave with according dimensions\n",
    "    psi = generate_plane_wave((1,)*D)\n",
    "    # Apply kinetic energy operator to psi\n",
    "    H_Psi = kinetic_energy_function(psi)\n",
    "    # Determine eigenvalue by dividing H_Psi by original wavefunction\n",
    "    E=(H_Psi/psi).real\n",
    "\n",
    "    # Assert all values of E are the same. Is this the case, then psi is a eigenfunction of the kinetic energy operator     \n",
    "    relative_tolerance = 10**(-14+np.ceil(np.log10(N)))\n",
    "    assert np.allclose(E, E[0], atol = 0, rtol=relative_tolerance)\n"
   ]
  }
 ],
 "metadata": {
  "kernelspec": {
   "display_name": "base",
   "language": "python",
   "name": "python3"
  },
  "language_info": {
   "codemirror_mode": {
    "name": "ipython",
    "version": 3
   },
   "file_extension": ".py",
   "mimetype": "text/x-python",
   "name": "python",
   "nbconvert_exporter": "python",
   "pygments_lexer": "ipython3",
   "version": "3.11.5"
  }
 },
 "nbformat": 4,
 "nbformat_minor": 2
}
