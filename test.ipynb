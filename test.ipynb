{
 "cells": [
  {
   "cell_type": "markdown",
   "metadata": {},
   "source": [
    "# Tests of Hamiltonian"
   ]
  },
  {
   "cell_type": "markdown",
   "metadata": {},
   "source": [
    "### Linearity\n",
    "\n",
    "For any wavefunctions $\\hat{\\Psi}$, $\\hat{\\Phi}$ and complex numbers $\\alpha, \\beta$ the following equation is true:\n",
    "\n",
    "$\\hat{H}(\\alpha\\hat{\\Psi}+ \\beta\\hat{\\Phi}) = \\alpha(\\hat{H}\\hat{\\Psi}) + \\beta(\\hat{H}\\hat{\\Phi})$"
   ]
  },
  {
   "cell_type": "code",
   "execution_count": 5,
   "metadata": {},
   "outputs": [
    {
     "ename": "AssertionError",
     "evalue": "\nArrays are not almost equal to 15 decimals\n\nMismatched elements: 6 / 9 (66.7%)\nMax absolute difference: 8.03887339e-14\nMax relative difference: 8.33816905e-16\n x: array([[ 1.339666897700911e-01 +95.44831086770635j ,\n         2.074998541113682e+01 +13.663221389370708j,\n        -2.880326439021881e+02+112.94151650388211j ],...\n y: array([[ 1.339666897700624e-01 +95.4483108677064j  ,\n         2.074998541113683e+01 +13.663221389370719j,\n        -2.880326439021881e+02+112.94151650388211j ],...",
     "output_type": "error",
     "traceback": [
      "\u001b[1;31m---------------------------------------------------------------------------\u001b[0m",
      "\u001b[1;31mAssertionError\u001b[0m                            Traceback (most recent call last)",
      "\u001b[1;32mc:\\Users\\Daniel\\Documents\\UNI\\HU-Berlin\\Comp Physics 2\\comp_phys\\test.ipynb Cell 3\u001b[0m line \u001b[0;36m2\n\u001b[0;32m     <a href='vscode-notebook-cell:/c%3A/Users/Daniel/Documents/UNI/HU-Berlin/Comp%20Physics%202/comp_phys/test.ipynb#W2sZmlsZQ%3D%3D?line=21'>22</a>\u001b[0m phi \u001b[39m=\u001b[39m generate_complex_ndarray(N,D)\n\u001b[0;32m     <a href='vscode-notebook-cell:/c%3A/Users/Daniel/Documents/UNI/HU-Berlin/Comp%20Physics%202/comp_phys/test.ipynb#W2sZmlsZQ%3D%3D?line=23'>24</a>\u001b[0m \u001b[39m# assert equation is true\u001b[39;00m\n\u001b[1;32m---> <a href='vscode-notebook-cell:/c%3A/Users/Daniel/Documents/UNI/HU-Berlin/Comp%20Physics%202/comp_phys/test.ipynb#W2sZmlsZQ%3D%3D?line=24'>25</a>\u001b[0m np\u001b[39m.\u001b[39mtesting\u001b[39m.\u001b[39massert_array_almost_equal(\n\u001b[0;32m     <a href='vscode-notebook-cell:/c%3A/Users/Daniel/Documents/UNI/HU-Berlin/Comp%20Physics%202/comp_phys/test.ipynb#W2sZmlsZQ%3D%3D?line=25'>26</a>\u001b[0m       hamiltonian_function(alpha\u001b[39m*\u001b[39mpsi\u001b[39m+\u001b[39mbeta\u001b[39m*\u001b[39mphi),\n\u001b[0;32m     <a href='vscode-notebook-cell:/c%3A/Users/Daniel/Documents/UNI/HU-Berlin/Comp%20Physics%202/comp_phys/test.ipynb#W2sZmlsZQ%3D%3D?line=26'>27</a>\u001b[0m       alpha\u001b[39m*\u001b[39mhamiltonian_function(psi) \u001b[39m+\u001b[39mbeta\u001b[39m*\u001b[39mhamiltonian_function(phi), decimal\u001b[39m=\u001b[39m \u001b[39m15\u001b[39m, verbose \u001b[39m=\u001b[39m \u001b[39mTrue\u001b[39;00m )\n",
      "File \u001b[1;32mc:\\Users\\crpdn\\anaconda3\\Lib\\contextlib.py:81\u001b[0m, in \u001b[0;36mContextDecorator.__call__.<locals>.inner\u001b[1;34m(*args, **kwds)\u001b[0m\n\u001b[0;32m     78\u001b[0m \u001b[39m@wraps\u001b[39m(func)\n\u001b[0;32m     79\u001b[0m \u001b[39mdef\u001b[39;00m \u001b[39minner\u001b[39m(\u001b[39m*\u001b[39margs, \u001b[39m*\u001b[39m\u001b[39m*\u001b[39mkwds):\n\u001b[0;32m     80\u001b[0m     \u001b[39mwith\u001b[39;00m \u001b[39mself\u001b[39m\u001b[39m.\u001b[39m_recreate_cm():\n\u001b[1;32m---> 81\u001b[0m         \u001b[39mreturn\u001b[39;00m func(\u001b[39m*\u001b[39margs, \u001b[39m*\u001b[39m\u001b[39m*\u001b[39mkwds)\n",
      "    \u001b[1;31m[... skipping hidden 1 frame]\u001b[0m\n",
      "File \u001b[1;32mc:\\Users\\crpdn\\anaconda3\\Lib\\contextlib.py:81\u001b[0m, in \u001b[0;36mContextDecorator.__call__.<locals>.inner\u001b[1;34m(*args, **kwds)\u001b[0m\n\u001b[0;32m     78\u001b[0m \u001b[39m@wraps\u001b[39m(func)\n\u001b[0;32m     79\u001b[0m \u001b[39mdef\u001b[39;00m \u001b[39minner\u001b[39m(\u001b[39m*\u001b[39margs, \u001b[39m*\u001b[39m\u001b[39m*\u001b[39mkwds):\n\u001b[0;32m     80\u001b[0m     \u001b[39mwith\u001b[39;00m \u001b[39mself\u001b[39m\u001b[39m.\u001b[39m_recreate_cm():\n\u001b[1;32m---> 81\u001b[0m         \u001b[39mreturn\u001b[39;00m func(\u001b[39m*\u001b[39margs, \u001b[39m*\u001b[39m\u001b[39m*\u001b[39mkwds)\n",
      "File \u001b[1;32mc:\\Users\\crpdn\\anaconda3\\Lib\\site-packages\\numpy\\testing\\_private\\utils.py:862\u001b[0m, in \u001b[0;36massert_array_compare\u001b[1;34m(comparison, x, y, err_msg, verbose, header, precision, equal_nan, equal_inf, strict)\u001b[0m\n\u001b[0;32m    858\u001b[0m         err_msg \u001b[39m+\u001b[39m\u001b[39m=\u001b[39m \u001b[39m'\u001b[39m\u001b[39m\\n\u001b[39;00m\u001b[39m'\u001b[39m \u001b[39m+\u001b[39m \u001b[39m'\u001b[39m\u001b[39m\\n\u001b[39;00m\u001b[39m'\u001b[39m\u001b[39m.\u001b[39mjoin(remarks)\n\u001b[0;32m    859\u001b[0m         msg \u001b[39m=\u001b[39m build_err_msg([ox, oy], err_msg,\n\u001b[0;32m    860\u001b[0m                             verbose\u001b[39m=\u001b[39mverbose, header\u001b[39m=\u001b[39mheader,\n\u001b[0;32m    861\u001b[0m                             names\u001b[39m=\u001b[39m(\u001b[39m'\u001b[39m\u001b[39mx\u001b[39m\u001b[39m'\u001b[39m, \u001b[39m'\u001b[39m\u001b[39my\u001b[39m\u001b[39m'\u001b[39m), precision\u001b[39m=\u001b[39mprecision)\n\u001b[1;32m--> 862\u001b[0m         \u001b[39mraise\u001b[39;00m \u001b[39mAssertionError\u001b[39;00m(msg)\n\u001b[0;32m    863\u001b[0m \u001b[39mexcept\u001b[39;00m \u001b[39mValueError\u001b[39;00m:\n\u001b[0;32m    864\u001b[0m     \u001b[39mimport\u001b[39;00m \u001b[39mtraceback\u001b[39;00m\n",
      "\u001b[1;31mAssertionError\u001b[0m: \nArrays are not almost equal to 15 decimals\n\nMismatched elements: 6 / 9 (66.7%)\nMax absolute difference: 8.03887339e-14\nMax relative difference: 8.33816905e-16\n x: array([[ 1.339666897700911e-01 +95.44831086770635j ,\n         2.074998541113682e+01 +13.663221389370708j,\n        -2.880326439021881e+02+112.94151650388211j ],...\n y: array([[ 1.339666897700624e-01 +95.4483108677064j  ,\n         2.074998541113683e+01 +13.663221389370719j,\n        -2.880326439021881e+02+112.94151650388211j ],..."
     ]
    }
   ],
   "source": [
    "# Proof of linearity\n",
    "\n",
    "# imports and global variables\n",
    "\n",
    "import functions\n",
    "from functions import *\n",
    "rng = functions.rng\n",
    "N = 3\n",
    "functions.N = N\n",
    "D = 2\n",
    "functions.D = D\n",
    "functions.mu = 10\n",
    "functions.epsilon_2 = 0.001\n",
    "\n",
    "\n",
    "# generate random complex numbers\n",
    "alpha = rng.standard_normal() + 1j * rng.standard_normal()\n",
    "beta = rng.standard_normal() + 1j * rng.standard_normal()\n",
    "\n",
    "# generate random wavefunctions as complex arrays\n",
    "psi = generate_complex_ndarray(N,D)\n",
    "phi = generate_complex_ndarray(N,D)\n",
    "\n",
    "# assert equation is true\n",
    "np.testing.assert_array_almost_equal(\n",
    "      hamiltonian_function(alpha*psi+beta*phi),\n",
    "      alpha*hamiltonian_function(psi) +beta*hamiltonian_function(phi), decimal= 15, verbose = True )\n"
   ]
  },
  {
   "cell_type": "markdown",
   "metadata": {},
   "source": [
    "### Hermiticity\n",
    "\n",
    "For any wavefunctions $\\hat{\\Psi}$ and $\\hat{\\Phi}$  the following equation is true:\n",
    "\n",
    "$( \\hat{\\Psi},\\hat{H} \\hat{\\Phi}) = ( \\hat{H}\\hat{\\Psi}, \\hat{\\Phi})$"
   ]
  },
  {
   "cell_type": "code",
   "execution_count": 6,
   "metadata": {},
   "outputs": [
    {
     "ename": "AssertionError",
     "evalue": "\nArrays are not almost equal to 15 decimals\n\nMismatched elements: 1 / 1 (100%)\nMax absolute difference: 3.44072796e-10\nMax relative difference: 4.73764074e-15\n x: array(-15965.123781595907-70848.82250641196j)\n y: array(-15965.123781596194-70848.82250641177j)",
     "output_type": "error",
     "traceback": [
      "\u001b[1;31m---------------------------------------------------------------------------\u001b[0m",
      "\u001b[1;31mAssertionError\u001b[0m                            Traceback (most recent call last)",
      "\u001b[1;32mc:\\Users\\Daniel\\Documents\\UNI\\HU-Berlin\\Comp Physics 2\\comp_phys\\test.ipynb Cell 5\u001b[0m line \u001b[0;36m2\n\u001b[0;32m     <a href='vscode-notebook-cell:/c%3A/Users/Daniel/Documents/UNI/HU-Berlin/Comp%20Physics%202/comp_phys/test.ipynb#W4sZmlsZQ%3D%3D?line=17'>18</a>\u001b[0m phi \u001b[39m=\u001b[39m generate_complex_ndarray(N,D)\n\u001b[0;32m     <a href='vscode-notebook-cell:/c%3A/Users/Daniel/Documents/UNI/HU-Berlin/Comp%20Physics%202/comp_phys/test.ipynb#W4sZmlsZQ%3D%3D?line=19'>20</a>\u001b[0m \u001b[39m# assert equation is true\u001b[39;00m\n\u001b[1;32m---> <a href='vscode-notebook-cell:/c%3A/Users/Daniel/Documents/UNI/HU-Berlin/Comp%20Physics%202/comp_phys/test.ipynb#W4sZmlsZQ%3D%3D?line=20'>21</a>\u001b[0m np\u001b[39m.\u001b[39mtesting\u001b[39m.\u001b[39massert_array_almost_equal(\n\u001b[0;32m     <a href='vscode-notebook-cell:/c%3A/Users/Daniel/Documents/UNI/HU-Berlin/Comp%20Physics%202/comp_phys/test.ipynb#W4sZmlsZQ%3D%3D?line=21'>22</a>\u001b[0m     np\u001b[39m.\u001b[39mvdot(psi,hamiltonian_function(phi)),\n\u001b[0;32m     <a href='vscode-notebook-cell:/c%3A/Users/Daniel/Documents/UNI/HU-Berlin/Comp%20Physics%202/comp_phys/test.ipynb#W4sZmlsZQ%3D%3D?line=22'>23</a>\u001b[0m     np\u001b[39m.\u001b[39mvdot(hamiltonian_function(psi),phi),decimal\u001b[39m=\u001b[39m \u001b[39m15\u001b[39m, verbose \u001b[39m=\u001b[39m \u001b[39mTrue\u001b[39;00m )\n",
      "File \u001b[1;32mc:\\Users\\crpdn\\anaconda3\\Lib\\contextlib.py:81\u001b[0m, in \u001b[0;36mContextDecorator.__call__.<locals>.inner\u001b[1;34m(*args, **kwds)\u001b[0m\n\u001b[0;32m     78\u001b[0m \u001b[39m@wraps\u001b[39m(func)\n\u001b[0;32m     79\u001b[0m \u001b[39mdef\u001b[39;00m \u001b[39minner\u001b[39m(\u001b[39m*\u001b[39margs, \u001b[39m*\u001b[39m\u001b[39m*\u001b[39mkwds):\n\u001b[0;32m     80\u001b[0m     \u001b[39mwith\u001b[39;00m \u001b[39mself\u001b[39m\u001b[39m.\u001b[39m_recreate_cm():\n\u001b[1;32m---> 81\u001b[0m         \u001b[39mreturn\u001b[39;00m func(\u001b[39m*\u001b[39margs, \u001b[39m*\u001b[39m\u001b[39m*\u001b[39mkwds)\n",
      "    \u001b[1;31m[... skipping hidden 1 frame]\u001b[0m\n",
      "File \u001b[1;32mc:\\Users\\crpdn\\anaconda3\\Lib\\contextlib.py:81\u001b[0m, in \u001b[0;36mContextDecorator.__call__.<locals>.inner\u001b[1;34m(*args, **kwds)\u001b[0m\n\u001b[0;32m     78\u001b[0m \u001b[39m@wraps\u001b[39m(func)\n\u001b[0;32m     79\u001b[0m \u001b[39mdef\u001b[39;00m \u001b[39minner\u001b[39m(\u001b[39m*\u001b[39margs, \u001b[39m*\u001b[39m\u001b[39m*\u001b[39mkwds):\n\u001b[0;32m     80\u001b[0m     \u001b[39mwith\u001b[39;00m \u001b[39mself\u001b[39m\u001b[39m.\u001b[39m_recreate_cm():\n\u001b[1;32m---> 81\u001b[0m         \u001b[39mreturn\u001b[39;00m func(\u001b[39m*\u001b[39margs, \u001b[39m*\u001b[39m\u001b[39m*\u001b[39mkwds)\n",
      "File \u001b[1;32mc:\\Users\\crpdn\\anaconda3\\Lib\\site-packages\\numpy\\testing\\_private\\utils.py:862\u001b[0m, in \u001b[0;36massert_array_compare\u001b[1;34m(comparison, x, y, err_msg, verbose, header, precision, equal_nan, equal_inf, strict)\u001b[0m\n\u001b[0;32m    858\u001b[0m         err_msg \u001b[39m+\u001b[39m\u001b[39m=\u001b[39m \u001b[39m'\u001b[39m\u001b[39m\\n\u001b[39;00m\u001b[39m'\u001b[39m \u001b[39m+\u001b[39m \u001b[39m'\u001b[39m\u001b[39m\\n\u001b[39;00m\u001b[39m'\u001b[39m\u001b[39m.\u001b[39mjoin(remarks)\n\u001b[0;32m    859\u001b[0m         msg \u001b[39m=\u001b[39m build_err_msg([ox, oy], err_msg,\n\u001b[0;32m    860\u001b[0m                             verbose\u001b[39m=\u001b[39mverbose, header\u001b[39m=\u001b[39mheader,\n\u001b[0;32m    861\u001b[0m                             names\u001b[39m=\u001b[39m(\u001b[39m'\u001b[39m\u001b[39mx\u001b[39m\u001b[39m'\u001b[39m, \u001b[39m'\u001b[39m\u001b[39my\u001b[39m\u001b[39m'\u001b[39m), precision\u001b[39m=\u001b[39mprecision)\n\u001b[1;32m--> 862\u001b[0m         \u001b[39mraise\u001b[39;00m \u001b[39mAssertionError\u001b[39;00m(msg)\n\u001b[0;32m    863\u001b[0m \u001b[39mexcept\u001b[39;00m \u001b[39mValueError\u001b[39;00m:\n\u001b[0;32m    864\u001b[0m     \u001b[39mimport\u001b[39;00m \u001b[39mtraceback\u001b[39;00m\n",
      "\u001b[1;31mAssertionError\u001b[0m: \nArrays are not almost equal to 15 decimals\n\nMismatched elements: 1 / 1 (100%)\nMax absolute difference: 3.44072796e-10\nMax relative difference: 4.73764074e-15\n x: array(-15965.123781595907-70848.82250641196j)\n y: array(-15965.123781596194-70848.82250641177j)"
     ]
    }
   ],
   "source": [
    "# proof of hermiticity\n",
    "\n",
    "# imports and global variables\n",
    "\n",
    "import functions\n",
    "from functions import *\n",
    "rng = functions.rng\n",
    "N = 10\n",
    "functions.N = N\n",
    "D = 5\n",
    "functions.D = D\n",
    "functions.mu = 10\n",
    "functions.epsilon_2 = 0.001\n",
    "\n",
    "\n",
    "# generate random wavefunctions as complex arrays\n",
    "psi = generate_complex_ndarray(N,D)\n",
    "phi = generate_complex_ndarray(N,D)\n",
    "\n",
    "# assert equation is true\n",
    "np.testing.assert_array_almost_equal(\n",
    "    np.vdot(psi,hamiltonian_function(phi)),\n",
    "    np.vdot(hamiltonian_function(psi),phi),decimal= 15, verbose = True )"
   ]
  },
  {
   "cell_type": "markdown",
   "metadata": {},
   "source": [
    "### Positivity\n",
    "\n",
    "For any wavefunctions $\\hat{\\Psi}$, while $V\\ge 0$   the following equation is true:\n",
    "\n",
    "$( \\hat{\\Psi},\\hat{H} \\hat{\\Psi}) \\ge 0$"
   ]
  },
  {
   "cell_type": "code",
   "execution_count": 21,
   "metadata": {},
   "outputs": [],
   "source": [
    "# proof of positivity\n",
    "# imports and global variables\n",
    "\n",
    "import functions\n",
    "from functions import *\n",
    "rng = functions.rng\n",
    "N = 3\n",
    "functions.N = N\n",
    "D = 2\n",
    "functions.D = D\n",
    "functions.mu = 10\n",
    "functions.epsilon_2 = 0.001\n",
    "\n",
    "\n",
    "# generate random wavefunctions as complex arrays\n",
    "psi = generate_complex_ndarray(N,D)\n",
    "\n",
    "# assert equation is true\n",
    "assert   np.vdot(psi,kinetic_energy_function(psi))>=0"
   ]
  },
  {
   "cell_type": "markdown",
   "metadata": {},
   "source": [
    "### Eigenvalues and eingenvectors\n",
    "\n",
    "If $V =  0$ then the plane waves described by:\n",
    "\n",
    " $\\hat{\\Psi}_\\bold{k}(\\bold{n})=\\frac{2\\pi i \\bold{n} \\bold{k}}{N}\\space, \\space \\bold{k} \\in \\Z$,\n",
    "\n",
    "are the eigenfunctions of \\hat{H}. As such the eigenvalue equation is fullfilled:\n",
    "\n",
    "$\\hat{H} \\hat{\\Psi}_\\bold{k} = E_\\bold{k}\\hat{\\Psi}_\\bold{k}$\n"
   ]
  },
  {
   "cell_type": "code",
   "execution_count": 35,
   "metadata": {},
   "outputs": [
    {
     "name": "stdout",
     "output_type": "stream",
     "text": [
      "power method start vector shape:  (2, 2)\n"
     ]
    },
    {
     "ename": "ValueError",
     "evalue": "Maximum number of iterations reached during conjugate_gradient. epsilon = 1309247981874.4595",
     "output_type": "error",
     "traceback": [
      "\u001b[1;31m---------------------------------------------------------------------------\u001b[0m",
      "\u001b[1;31mValueError\u001b[0m                                Traceback (most recent call last)",
      "\u001b[1;32mc:\\Users\\Daniel\\Documents\\UNI\\HU-Berlin\\Comp Physics 2\\comp_phys\\test.ipynb Cell 9\u001b[0m line \u001b[0;36m2\n\u001b[0;32m     <a href='vscode-notebook-cell:/c%3A/Users/Daniel/Documents/UNI/HU-Berlin/Comp%20Physics%202/comp_phys/test.ipynb#X11sZmlsZQ%3D%3D?line=20'>21</a>\u001b[0m psi \u001b[39m=\u001b[39m generate_plane_wave(\u001b[39mtuple\u001b[39m(k_vector))\n\u001b[0;32m     <a href='vscode-notebook-cell:/c%3A/Users/Daniel/Documents/UNI/HU-Berlin/Comp%20Physics%202/comp_phys/test.ipynb#X11sZmlsZQ%3D%3D?line=21'>22</a>\u001b[0m functions\u001b[39m.\u001b[39mA \u001b[39m=\u001b[39m psi\n\u001b[0;32m     <a href='vscode-notebook-cell:/c%3A/Users/Daniel/Documents/UNI/HU-Berlin/Comp%20Physics%202/comp_phys/test.ipynb#X11sZmlsZQ%3D%3D?line=23'>24</a>\u001b[0m np\u001b[39m.\u001b[39mtesting\u001b[39m.\u001b[39massert_array_almost_equal(\n\u001b[0;32m     <a href='vscode-notebook-cell:/c%3A/Users/Daniel/Documents/UNI/HU-Berlin/Comp%20Physics%202/comp_phys/test.ipynb#X11sZmlsZQ%3D%3D?line=24'>25</a>\u001b[0m     hamiltonian_function(psi),\n\u001b[1;32m---> <a href='vscode-notebook-cell:/c%3A/Users/Daniel/Documents/UNI/HU-Berlin/Comp%20Physics%202/comp_phys/test.ipynb#X11sZmlsZQ%3D%3D?line=25'>26</a>\u001b[0m     smallest_eigenvalue_vector(kinetic_energy_function, power_method_tolerance \u001b[39m=\u001b[39m \u001b[39m1.e-12\u001b[39m, conjugate_gradient_tolerance \u001b[39m=\u001b[39m \u001b[39m1.e-12\u001b[39m, max_iters_power_method \u001b[39m=\u001b[39m \u001b[39m10000\u001b[39m, max_iters_conjugate_gradient\u001b[39m=\u001b[39m \u001b[39m10000\u001b[39m)[\u001b[39m0\u001b[39m]\u001b[39m*\u001b[39mpsi, decimal\u001b[39m=\u001b[39m \u001b[39m15\u001b[39m, verbose \u001b[39m=\u001b[39m \u001b[39mTrue\u001b[39;00m )\n",
      "File \u001b[1;32mc:\\Users\\Daniel\\Documents\\UNI\\HU-Berlin\\Comp Physics 2\\comp_phys\\functions.py:245\u001b[0m, in \u001b[0;36msmallest_eigenvalue_vector\u001b[1;34m(apply_A, power_method_tolerance, conjugate_gradient_tolerance, max_iters_power_method, max_iters_conjugate_gradient)\u001b[0m\n\u001b[0;32m    242\u001b[0m b \u001b[39m=\u001b[39m rng\u001b[39m.\u001b[39mstandard_normal(size\u001b[39m=\u001b[39mA\u001b[39m.\u001b[39mshape) \u001b[39m+\u001b[39m \u001b[39m1\u001b[39mj \u001b[39m*\u001b[39m rng\u001b[39m.\u001b[39mstandard_normal(size\u001b[39m=\u001b[39mA\u001b[39m.\u001b[39mshape)\n\u001b[0;32m    243\u001b[0m \u001b[39m#conjugate_gradient(apply_A,b,conjugate_gradient_tolerance, max_iters_conjugate_gradient)\u001b[39;00m\n\u001b[1;32m--> 245\u001b[0m \u001b[39mreturn\u001b[39;00m power_method_EV(b\u001b[39m.\u001b[39mshape,conjugate_gradient_EV)\n",
      "File \u001b[1;32mc:\\Users\\Daniel\\Documents\\UNI\\HU-Berlin\\Comp Physics 2\\comp_phys\\functions.py:195\u001b[0m, in \u001b[0;36msmallest_eigenvalue_vector.<locals>.power_method_EV\u001b[1;34m(vshape, apply_A, epsilon, max_iters)\u001b[0m\n\u001b[0;32m    193\u001b[0m \u001b[39m#initialize values before starting loop\u001b[39;00m\n\u001b[0;32m    194\u001b[0m niters \u001b[39m=\u001b[39m \u001b[39m0\u001b[39m\n\u001b[1;32m--> 195\u001b[0m mu \u001b[39m=\u001b[39m np\u001b[39m.\u001b[39mlinalg\u001b[39m.\u001b[39mnorm(apply_A(v))    \n\u001b[0;32m    196\u001b[0m w \u001b[39m=\u001b[39m apply_A(v)   \n\u001b[0;32m    197\u001b[0m res \u001b[39m=\u001b[39m np\u001b[39m.\u001b[39mlinalg\u001b[39m.\u001b[39mnorm(w \u001b[39m-\u001b[39m np\u001b[39m.\u001b[39mdot(mu,v))\n",
      "File \u001b[1;32mc:\\Users\\Daniel\\Documents\\UNI\\HU-Berlin\\Comp Physics 2\\comp_phys\\functions.py:237\u001b[0m, in \u001b[0;36msmallest_eigenvalue_vector.<locals>.conjugate_gradient_EV\u001b[1;34m(b, epsilon, max_iters)\u001b[0m\n\u001b[0;32m    235\u001b[0m     niters\u001b[39m+\u001b[39m\u001b[39m=\u001b[39m\u001b[39m1\u001b[39m\n\u001b[0;32m    236\u001b[0m \u001b[39mif\u001b[39;00m niters \u001b[39m>\u001b[39m\u001b[39m=\u001b[39m max_iters:\n\u001b[1;32m--> 237\u001b[0m     \u001b[39mraise\u001b[39;00m \u001b[39mValueError\u001b[39;00m(\u001b[39mf\u001b[39m\u001b[39m\"\u001b[39m\u001b[39mMaximum number of iterations reached during conjugate_gradient. epsilon = \u001b[39m\u001b[39m{\u001b[39;00mnp\u001b[39m.\u001b[39mlinalg\u001b[39m.\u001b[39mnorm(r)\u001b[39m}\u001b[39;00m\u001b[39m\"\u001b[39m)    \n\u001b[0;32m    239\u001b[0m \u001b[39mreturn\u001b[39;00m x\n",
      "\u001b[1;31mValueError\u001b[0m: Maximum number of iterations reached during conjugate_gradient. epsilon = 1309247981874.4595"
     ]
    }
   ],
   "source": [
    "#Proof of eigenvalue equation\n",
    "\n",
    "# imports and global variables\n",
    "\n",
    "import functions\n",
    "from functions import *\n",
    "L_over_r = 3\n",
    "N = 2\n",
    "epsilon = L_over_r/N\n",
    "D = 2\n",
    "mu = 10\n",
    "epsilon_2 = epsilon**2\n",
    "functions.N = N\n",
    "functions.D = D\n",
    "functions.mu = mu\n",
    "functions.epsilon_2 = epsilon_2\n",
    "N = 2\n",
    "D = 2\n",
    "\n",
    "k_vector = rng.standard_normal(size=(D,1))\n",
    "psi = generate_plane_wave(tuple(k_vector))\n",
    "functions.A = psi\n",
    "\n",
    "\n",
    "#conjugate gradient doesn't work with kinetic energy???\n",
    "np.testing.assert_array_almost_equal(\n",
    "    hamiltonian_function(psi),\n",
    "    smallest_eigenvalue_vector(kinetic_energy_function, power_method_tolerance = 1.e-12, conjugate_gradient_tolerance = 1.e-12, max_iters_power_method = 10000, max_iters_conjugate_gradient= 10000)[0]*psi, decimal= 15, verbose = True )\n"
   ]
  }
 ],
 "metadata": {
  "kernelspec": {
   "display_name": "base",
   "language": "python",
   "name": "python3"
  },
  "language_info": {
   "codemirror_mode": {
    "name": "ipython",
    "version": 3
   },
   "file_extension": ".py",
   "mimetype": "text/x-python",
   "name": "python",
   "nbconvert_exporter": "python",
   "pygments_lexer": "ipython3",
   "version": "3.11.5"
  }
 },
 "nbformat": 4,
 "nbformat_minor": 2
}
