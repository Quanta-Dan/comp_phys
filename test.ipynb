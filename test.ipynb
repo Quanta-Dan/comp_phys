{
 "cells": [
  {
   "cell_type": "markdown",
   "metadata": {},
   "source": [
    "# Tests of Hamiltonian"
   ]
  },
  {
   "cell_type": "markdown",
   "metadata": {},
   "source": [
    "### Linearity\n",
    "\n",
    "For any wavefunctions $\\hat{\\Psi}$, $\\hat{\\Phi}$ and complex numbers $\\alpha, \\beta$ the following equation is true:\n",
    "\n",
    "$\\hat{H}(\\alpha\\hat{\\Psi}+ \\beta\\hat{\\Phi}) = \\alpha(\\hat{H}\\hat{\\Psi}) + \\beta(\\hat{H}\\hat{\\Phi})$"
   ]
  },
  {
   "cell_type": "code",
   "execution_count": 3,
   "metadata": {},
   "outputs": [
    {
     "ename": "AssertionError",
     "evalue": "\nArrays are not almost equal to 15 decimals\n\nMismatched elements: 917914 / 1000000 (91.8%)\nMax absolute difference: 5.08422995e-13\nMax relative difference: 1.74232238e-13\n x: array([[[  216.434366123982   +1.116168983834314e+02j,\n           308.37960786839153 -2.653117956838766e+02j,\n          -428.5949239219584  +5.009601567906051e+01j, ...,...\n y: array([[[  216.43436612398202 +1.116168983834314e+02j,\n           308.37960786839153 -2.653117956838766e+02j,\n          -428.59492392195847 +5.009601567906057e+01j, ...,...",
     "output_type": "error",
     "traceback": [
      "\u001b[0;31m---------------------------------------------------------------------------\u001b[0m",
      "\u001b[0;31mAssertionError\u001b[0m                            Traceback (most recent call last)",
      "\u001b[1;32m/Users/gyulaiemese/Desktop/Daniel/comp_phys/test.ipynb Cell 3\u001b[0m line \u001b[0;36m2\n\u001b[1;32m     <a href='vscode-notebook-cell:/Users/gyulaiemese/Desktop/Daniel/comp_phys/test.ipynb#W2sZmlsZQ%3D%3D?line=21'>22</a>\u001b[0m phi \u001b[39m=\u001b[39m generate_complex_ndarray(N,D)\n\u001b[1;32m     <a href='vscode-notebook-cell:/Users/gyulaiemese/Desktop/Daniel/comp_phys/test.ipynb#W2sZmlsZQ%3D%3D?line=23'>24</a>\u001b[0m \u001b[39m# assert equation is true\u001b[39;00m\n\u001b[0;32m---> <a href='vscode-notebook-cell:/Users/gyulaiemese/Desktop/Daniel/comp_phys/test.ipynb#W2sZmlsZQ%3D%3D?line=24'>25</a>\u001b[0m np\u001b[39m.\u001b[39mtesting\u001b[39m.\u001b[39massert_array_almost_equal(\n\u001b[1;32m     <a href='vscode-notebook-cell:/Users/gyulaiemese/Desktop/Daniel/comp_phys/test.ipynb#W2sZmlsZQ%3D%3D?line=25'>26</a>\u001b[0m       hamiltonian_function(alpha\u001b[39m*\u001b[39mpsi\u001b[39m+\u001b[39mbeta\u001b[39m*\u001b[39mphi),\n\u001b[1;32m     <a href='vscode-notebook-cell:/Users/gyulaiemese/Desktop/Daniel/comp_phys/test.ipynb#W2sZmlsZQ%3D%3D?line=26'>27</a>\u001b[0m       alpha\u001b[39m*\u001b[39mhamiltonian_function(psi) \u001b[39m+\u001b[39mbeta\u001b[39m*\u001b[39mhamiltonian_function(phi), decimal\u001b[39m=\u001b[39m \u001b[39m15\u001b[39m, verbose \u001b[39m=\u001b[39m \u001b[39mTrue\u001b[39;00m )\n",
      "File \u001b[0;32m~/anaconda3/lib/python3.11/contextlib.py:81\u001b[0m, in \u001b[0;36mContextDecorator.__call__.<locals>.inner\u001b[0;34m(*args, **kwds)\u001b[0m\n\u001b[1;32m     78\u001b[0m \u001b[39m@wraps\u001b[39m(func)\n\u001b[1;32m     79\u001b[0m \u001b[39mdef\u001b[39;00m \u001b[39minner\u001b[39m(\u001b[39m*\u001b[39margs, \u001b[39m*\u001b[39m\u001b[39m*\u001b[39mkwds):\n\u001b[1;32m     80\u001b[0m     \u001b[39mwith\u001b[39;00m \u001b[39mself\u001b[39m\u001b[39m.\u001b[39m_recreate_cm():\n\u001b[0;32m---> 81\u001b[0m         \u001b[39mreturn\u001b[39;00m func(\u001b[39m*\u001b[39margs, \u001b[39m*\u001b[39m\u001b[39m*\u001b[39mkwds)\n",
      "    \u001b[0;31m[... skipping hidden 1 frame]\u001b[0m\n",
      "File \u001b[0;32m~/anaconda3/lib/python3.11/contextlib.py:81\u001b[0m, in \u001b[0;36mContextDecorator.__call__.<locals>.inner\u001b[0;34m(*args, **kwds)\u001b[0m\n\u001b[1;32m     78\u001b[0m \u001b[39m@wraps\u001b[39m(func)\n\u001b[1;32m     79\u001b[0m \u001b[39mdef\u001b[39;00m \u001b[39minner\u001b[39m(\u001b[39m*\u001b[39margs, \u001b[39m*\u001b[39m\u001b[39m*\u001b[39mkwds):\n\u001b[1;32m     80\u001b[0m     \u001b[39mwith\u001b[39;00m \u001b[39mself\u001b[39m\u001b[39m.\u001b[39m_recreate_cm():\n\u001b[0;32m---> 81\u001b[0m         \u001b[39mreturn\u001b[39;00m func(\u001b[39m*\u001b[39margs, \u001b[39m*\u001b[39m\u001b[39m*\u001b[39mkwds)\n",
      "File \u001b[0;32m~/anaconda3/lib/python3.11/site-packages/numpy/testing/_private/utils.py:862\u001b[0m, in \u001b[0;36massert_array_compare\u001b[0;34m(comparison, x, y, err_msg, verbose, header, precision, equal_nan, equal_inf, strict)\u001b[0m\n\u001b[1;32m    858\u001b[0m         err_msg \u001b[39m+\u001b[39m\u001b[39m=\u001b[39m \u001b[39m'\u001b[39m\u001b[39m\\n\u001b[39;00m\u001b[39m'\u001b[39m \u001b[39m+\u001b[39m \u001b[39m'\u001b[39m\u001b[39m\\n\u001b[39;00m\u001b[39m'\u001b[39m\u001b[39m.\u001b[39mjoin(remarks)\n\u001b[1;32m    859\u001b[0m         msg \u001b[39m=\u001b[39m build_err_msg([ox, oy], err_msg,\n\u001b[1;32m    860\u001b[0m                             verbose\u001b[39m=\u001b[39mverbose, header\u001b[39m=\u001b[39mheader,\n\u001b[1;32m    861\u001b[0m                             names\u001b[39m=\u001b[39m(\u001b[39m'\u001b[39m\u001b[39mx\u001b[39m\u001b[39m'\u001b[39m, \u001b[39m'\u001b[39m\u001b[39my\u001b[39m\u001b[39m'\u001b[39m), precision\u001b[39m=\u001b[39mprecision)\n\u001b[0;32m--> 862\u001b[0m         \u001b[39mraise\u001b[39;00m \u001b[39mAssertionError\u001b[39;00m(msg)\n\u001b[1;32m    863\u001b[0m \u001b[39mexcept\u001b[39;00m \u001b[39mValueError\u001b[39;00m:\n\u001b[1;32m    864\u001b[0m     \u001b[39mimport\u001b[39;00m \u001b[39mtraceback\u001b[39;00m\n",
      "\u001b[0;31mAssertionError\u001b[0m: \nArrays are not almost equal to 15 decimals\n\nMismatched elements: 917914 / 1000000 (91.8%)\nMax absolute difference: 5.08422995e-13\nMax relative difference: 1.74232238e-13\n x: array([[[  216.434366123982   +1.116168983834314e+02j,\n           308.37960786839153 -2.653117956838766e+02j,\n          -428.5949239219584  +5.009601567906051e+01j, ...,...\n y: array([[[  216.43436612398202 +1.116168983834314e+02j,\n           308.37960786839153 -2.653117956838766e+02j,\n          -428.59492392195847 +5.009601567906057e+01j, ...,..."
     ]
    }
   ],
   "source": [
    "# Proof of linearity\n",
    "\n",
    "# imports and global variables\n",
    "\n",
    "import functions\n",
    "from functions import *\n",
    "rng = functions.rng\n",
    "N = 100\n",
    "functions.N = N\n",
    "D = 3\n",
    "functions.D = D\n",
    "functions.mu = 10\n",
    "functions.epsilon_2 = 0.001\n",
    "\n",
    "\n",
    "# generate random complex numbers\n",
    "alpha = rng.standard_normal() + 1j * rng.standard_normal()\n",
    "beta = rng.standard_normal() + 1j * rng.standard_normal()\n",
    "\n",
    "# generate random wavefunctions as complex arrays\n",
    "psi = generate_complex_ndarray(N,D)\n",
    "phi = generate_complex_ndarray(N,D)\n",
    "\n",
    "# assert equation is true\n",
    "np.testing.assert_array_almost_equal(\n",
    "      hamiltonian_function(alpha*psi+beta*phi),\n",
    "      alpha*hamiltonian_function(psi) +beta*hamiltonian_function(phi), decimal= 15, verbose = True )\n"
   ]
  },
  {
   "cell_type": "markdown",
   "metadata": {},
   "source": [
    "### Hermiticity\n",
    "\n",
    "For any wavefunctions $\\hat{\\Psi}$ and $\\hat{\\Phi}$  the following equation is true:\n",
    "\n",
    "$( \\hat{\\Psi},\\hat{H} \\hat{\\Phi}) = ( \\hat{H}\\hat{\\Psi}, \\hat{\\Phi})$"
   ]
  },
  {
   "cell_type": "code",
   "execution_count": 2,
   "metadata": {},
   "outputs": [
    {
     "ename": "AssertionError",
     "evalue": "\nArrays are not almost equal to 15 decimals\n\nMismatched elements: 1 / 1 (100%)\nMax absolute difference: 1.37321051e-09\nMax relative difference: 3.24361342e-15\n x: array(-418893.90593407693+61319.69670016036j)\n y: array(-418893.90593407827+61319.69670016006j)",
     "output_type": "error",
     "traceback": [
      "\u001b[0;31m---------------------------------------------------------------------------\u001b[0m",
      "\u001b[0;31mAssertionError\u001b[0m                            Traceback (most recent call last)",
      "\u001b[1;32m/Users/gyulaiemese/Desktop/Daniel/comp_phys/test.ipynb Cell 5\u001b[0m line \u001b[0;36m1\n\u001b[1;32m     <a href='vscode-notebook-cell:/Users/gyulaiemese/Desktop/Daniel/comp_phys/test.ipynb#W4sZmlsZQ%3D%3D?line=16'>17</a>\u001b[0m phi \u001b[39m=\u001b[39m generate_complex_ndarray(N,D)\n\u001b[1;32m     <a href='vscode-notebook-cell:/Users/gyulaiemese/Desktop/Daniel/comp_phys/test.ipynb#W4sZmlsZQ%3D%3D?line=17'>18</a>\u001b[0m \u001b[39m# assert equation is true\u001b[39;00m\n\u001b[0;32m---> <a href='vscode-notebook-cell:/Users/gyulaiemese/Desktop/Daniel/comp_phys/test.ipynb#W4sZmlsZQ%3D%3D?line=18'>19</a>\u001b[0m np\u001b[39m.\u001b[39mtesting\u001b[39m.\u001b[39massert_array_almost_equal(\n\u001b[1;32m     <a href='vscode-notebook-cell:/Users/gyulaiemese/Desktop/Daniel/comp_phys/test.ipynb#W4sZmlsZQ%3D%3D?line=19'>20</a>\u001b[0m     np\u001b[39m.\u001b[39mvdot(psi,hamiltonian_function(phi)),\n\u001b[1;32m     <a href='vscode-notebook-cell:/Users/gyulaiemese/Desktop/Daniel/comp_phys/test.ipynb#W4sZmlsZQ%3D%3D?line=20'>21</a>\u001b[0m     np\u001b[39m.\u001b[39mvdot(hamiltonian_function(psi),phi), decimal \u001b[39m=\u001b[39m \u001b[39m15\u001b[39m, verbose \u001b[39m=\u001b[39m \u001b[39mTrue\u001b[39;00m)\n",
      "File \u001b[0;32m~/anaconda3/lib/python3.11/contextlib.py:81\u001b[0m, in \u001b[0;36mContextDecorator.__call__.<locals>.inner\u001b[0;34m(*args, **kwds)\u001b[0m\n\u001b[1;32m     78\u001b[0m \u001b[39m@wraps\u001b[39m(func)\n\u001b[1;32m     79\u001b[0m \u001b[39mdef\u001b[39;00m \u001b[39minner\u001b[39m(\u001b[39m*\u001b[39margs, \u001b[39m*\u001b[39m\u001b[39m*\u001b[39mkwds):\n\u001b[1;32m     80\u001b[0m     \u001b[39mwith\u001b[39;00m \u001b[39mself\u001b[39m\u001b[39m.\u001b[39m_recreate_cm():\n\u001b[0;32m---> 81\u001b[0m         \u001b[39mreturn\u001b[39;00m func(\u001b[39m*\u001b[39margs, \u001b[39m*\u001b[39m\u001b[39m*\u001b[39mkwds)\n",
      "    \u001b[0;31m[... skipping hidden 1 frame]\u001b[0m\n",
      "File \u001b[0;32m~/anaconda3/lib/python3.11/contextlib.py:81\u001b[0m, in \u001b[0;36mContextDecorator.__call__.<locals>.inner\u001b[0;34m(*args, **kwds)\u001b[0m\n\u001b[1;32m     78\u001b[0m \u001b[39m@wraps\u001b[39m(func)\n\u001b[1;32m     79\u001b[0m \u001b[39mdef\u001b[39;00m \u001b[39minner\u001b[39m(\u001b[39m*\u001b[39margs, \u001b[39m*\u001b[39m\u001b[39m*\u001b[39mkwds):\n\u001b[1;32m     80\u001b[0m     \u001b[39mwith\u001b[39;00m \u001b[39mself\u001b[39m\u001b[39m.\u001b[39m_recreate_cm():\n\u001b[0;32m---> 81\u001b[0m         \u001b[39mreturn\u001b[39;00m func(\u001b[39m*\u001b[39margs, \u001b[39m*\u001b[39m\u001b[39m*\u001b[39mkwds)\n",
      "File \u001b[0;32m~/anaconda3/lib/python3.11/site-packages/numpy/testing/_private/utils.py:862\u001b[0m, in \u001b[0;36massert_array_compare\u001b[0;34m(comparison, x, y, err_msg, verbose, header, precision, equal_nan, equal_inf, strict)\u001b[0m\n\u001b[1;32m    858\u001b[0m         err_msg \u001b[39m+\u001b[39m\u001b[39m=\u001b[39m \u001b[39m'\u001b[39m\u001b[39m\\n\u001b[39;00m\u001b[39m'\u001b[39m \u001b[39m+\u001b[39m \u001b[39m'\u001b[39m\u001b[39m\\n\u001b[39;00m\u001b[39m'\u001b[39m\u001b[39m.\u001b[39mjoin(remarks)\n\u001b[1;32m    859\u001b[0m         msg \u001b[39m=\u001b[39m build_err_msg([ox, oy], err_msg,\n\u001b[1;32m    860\u001b[0m                             verbose\u001b[39m=\u001b[39mverbose, header\u001b[39m=\u001b[39mheader,\n\u001b[1;32m    861\u001b[0m                             names\u001b[39m=\u001b[39m(\u001b[39m'\u001b[39m\u001b[39mx\u001b[39m\u001b[39m'\u001b[39m, \u001b[39m'\u001b[39m\u001b[39my\u001b[39m\u001b[39m'\u001b[39m), precision\u001b[39m=\u001b[39mprecision)\n\u001b[0;32m--> 862\u001b[0m         \u001b[39mraise\u001b[39;00m \u001b[39mAssertionError\u001b[39;00m(msg)\n\u001b[1;32m    863\u001b[0m \u001b[39mexcept\u001b[39;00m \u001b[39mValueError\u001b[39;00m:\n\u001b[1;32m    864\u001b[0m     \u001b[39mimport\u001b[39;00m \u001b[39mtraceback\u001b[39;00m\n",
      "\u001b[0;31mAssertionError\u001b[0m: \nArrays are not almost equal to 15 decimals\n\nMismatched elements: 1 / 1 (100%)\nMax absolute difference: 1.37321051e-09\nMax relative difference: 3.24361342e-15\n x: array(-418893.90593407693+61319.69670016036j)\n y: array(-418893.90593407827+61319.69670016006j)"
     ]
    }
   ],
   "source": [
    "# proof of hermiticity\n",
    "\n",
    "# imports and global variables\n",
    "\n",
    "import functions\n",
    "from functions import *\n",
    "rng = functions.rng\n",
    "N = 100\n",
    "functions.N = N\n",
    "D = 3\n",
    "functions.D = D\n",
    "functions.mu = 10\n",
    "functions.epsilon_2 = 0.001\n",
    "\n",
    "\n",
    "psi = generate_complex_ndarray(N,D)\n",
    "phi = generate_complex_ndarray(N,D)\n",
    "# assert equation is true\n",
    "np.testing.assert_array_almost_equal(\n",
    "    np.vdot(psi,hamiltonian_function(phi)),\n",
    "    np.vdot(hamiltonian_function(psi),phi), decimal = 15, verbose = True)\n"
   ]
  },
  {
   "cell_type": "markdown",
   "metadata": {},
   "source": [
    "### Positivity\n",
    "\n",
    "For any wavefunctions $\\hat{\\Psi}$, while $V\\ge 0$   the following equation is true:\n",
    "\n",
    "$( \\hat{\\Psi},\\hat{H} \\hat{\\Psi}) \\ge 0$"
   ]
  },
  {
   "cell_type": "code",
   "execution_count": 25,
   "metadata": {},
   "outputs": [],
   "source": [
    "# proof of positivity\n",
    "# imports and global variables\n",
    "\n",
    "import functions\n",
    "from functions import *\n",
    "rng = functions.rng\n",
    "N = 3\n",
    "functions.N = N\n",
    "D = 2\n",
    "functions.D = D\n",
    "functions.mu = 10\n",
    "functions.epsilon_2 = 0.001\n",
    "\n",
    "\n",
    "# generate random wavefunctions as complex arrays\n",
    "psi = generate_complex_ndarray(N,D)\n",
    "\n",
    "# assert equation is true\n",
    "assert   np.vdot(psi,hamiltonian_function(psi))>=0"
   ]
  }
 ],
 "metadata": {
  "kernelspec": {
   "display_name": "base",
   "language": "python",
   "name": "python3"
  },
  "language_info": {
   "codemirror_mode": {
    "name": "ipython",
    "version": 3
   },
   "file_extension": ".py",
   "mimetype": "text/x-python",
   "name": "python",
   "nbconvert_exporter": "python",
   "pygments_lexer": "ipython3",
   "version": "3.11.5"
  }
 },
 "nbformat": 4,
 "nbformat_minor": 2
}
