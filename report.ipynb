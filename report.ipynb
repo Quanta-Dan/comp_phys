{
 "cells": [
  {
   "cell_type": "markdown",
   "metadata": {},
   "source": [
    "# QM point-particle in external potential \n",
    "___\n",
    "Daniel Cierpinsky 641249, Jann Ole Neitzel 590359"
   ]
  },
  {
   "cell_type": "markdown",
   "metadata": {},
   "source": [
    "## Conceptual approach & code implementation\n",
    "\n",
    "All methods utilized in this project are based on the concept of lattice discretization, which makes the computational calculation of the Schrödinger equation possible in the first place. Specifically it is required to assign discrete numerical values or operations to quantum-mechanical concepts such as the wave function $\\Psi$ or Hamiltonian operator $\\hat{H}$.\n",
    "\n",
    "In this case, arrays will be used to represent them. Independently of the problem to be described, during discretization the resolution needs to be defined. Here we define the integer $N$ to the size of the array and $D$ the dimension.\n",
    "Under consideration of the fact multidimensional arrays are to be expected, we chose to  define the arrays as `numpy.ndarray`. This has the added benefit of being able to use powerful `numpy` array operations such as `numpy.vdot` and `numpy.roll` directly on the arrays without the need to flatten and reshape them.\n",
    "\n",
    "Operators can not be represented as arrays, but are instead be converted to discrete array operations. For this purpose all funcions have been designed with special attention so that they can take an `numpy.ndarray` as input and apply the operations only on the array as whole (not element-wise). This not only improves efficiency by using pre-built `numpy` functions (compared to element-wise operations), but also makes the code more readable (to the point of recognizing the original operation).\n",
    "\n",
    "Example:"
   ]
  },
  {
   "cell_type": "code",
   "execution_count": 9,
   "metadata": {},
   "outputs": [
    {
     "name": "stdout",
     "output_type": "stream",
     "text": [
      "\u001b[1;31mSignature:\u001b[0m \u001b[0mexpectation_energy\u001b[0m\u001b[1;33m(\u001b[0m\u001b[0mpsi\u001b[0m\u001b[1;33m:\u001b[0m \u001b[0mnumpy\u001b[0m\u001b[1;33m.\u001b[0m\u001b[0mndarray\u001b[0m\u001b[1;33m)\u001b[0m \u001b[1;33m->\u001b[0m \u001b[0mfloat\u001b[0m\u001b[1;33m\u001b[0m\u001b[1;33m\u001b[0m\u001b[0m\n",
      "\u001b[1;31mSource:\u001b[0m   \n",
      "\u001b[1;32mdef\u001b[0m \u001b[0mexpectation_energy\u001b[0m\u001b[1;33m(\u001b[0m\u001b[0mpsi\u001b[0m\u001b[1;33m:\u001b[0m\u001b[0mnp\u001b[0m\u001b[1;33m.\u001b[0m\u001b[0mndarray\u001b[0m\u001b[1;33m)\u001b[0m\u001b[1;33m->\u001b[0m\u001b[0mfloat\u001b[0m\u001b[1;33m:\u001b[0m\u001b[1;33m\n",
      "\u001b[0m    \u001b[1;34m\"\"\"\n",
      "    Calculates expectation value of energy for wavefunction psi.\n",
      "    Function calculates the array product of psi, H(psi).\n",
      "    ## Parameters\n",
      "    - psi: numpy.ndarray, the wavefunction of size NxD.\n",
      "\n",
      "    ## Returns\n",
      "    - float: expectation value of energy.\n",
      "    \"\"\"\u001b[0m\u001b[1;33m\n",
      "\u001b[0m    \u001b[1;32mreturn\u001b[0m \u001b[0mnp\u001b[0m\u001b[1;33m.\u001b[0m\u001b[0mvdot\u001b[0m\u001b[1;33m(\u001b[0m\u001b[0mpsi\u001b[0m\u001b[1;33m,\u001b[0m \u001b[0mhamiltonian_function\u001b[0m\u001b[1;33m(\u001b[0m\u001b[0mpsi\u001b[0m\u001b[1;33m)\u001b[0m\u001b[1;33m)\u001b[0m\u001b[1;33m.\u001b[0m\u001b[0mreal\u001b[0m\u001b[1;33m\u001b[0m\u001b[1;33m\u001b[0m\u001b[0m\n",
      "\u001b[1;31mFile:\u001b[0m      c:\\users\\daniel\\documents\\uni\\hu-berlin\\comp physics 2\\comp_phys\\functions.py\n",
      "\u001b[1;31mType:\u001b[0m      function"
     ]
    }
   ],
   "source": [
    "from functions import *\n",
    "expectation_energy??"
   ]
  },
  {
   "cell_type": "markdown",
   "metadata": {},
   "source": [
    "All functions are defined in the `functions.py` script, as they utilize common global variables in that enviroment. Before executing an imported function, the global variables need to be set in the respective environmet. For example:"
   ]
  },
  {
   "cell_type": "code",
   "execution_count": 6,
   "metadata": {},
   "outputs": [
    {
     "data": {
      "text/plain": [
       "array([[5000., 4901., 4804., ..., 4709., 4804., 4901.],\n",
       "       [4901., 4802., 4705., ..., 4610., 4705., 4802.],\n",
       "       [4804., 4705., 4608., ..., 4513., 4608., 4705.],\n",
       "       ...,\n",
       "       [4709., 4610., 4513., ..., 4418., 4513., 4610.],\n",
       "       [4804., 4705., 4608., ..., 4513., 4608., 4705.],\n",
       "       [4901., 4802., 4705., ..., 4610., 4705., 4802.]])"
      ]
     },
     "execution_count": 6,
     "metadata": {},
     "output_type": "execute_result"
    }
   ],
   "source": [
    "import functions\n",
    "from functions import *\n",
    "functions.N = 100\n",
    "functions.D = 2\n",
    "n2_array()"
   ]
  },
  {
   "cell_type": "markdown",
   "metadata": {},
   "source": [
    "## Considerations\n",
    "### Units\n",
    "As this project is based on numerical calculation, the units chosed during lattice discretization have to be taken into consideration. \n",
    "A common approach is to work exclusively with unitless numbers, which results in a larger upfront effort during programming but results in compatibilty of results with any unit system. \n",
    "To discretize functions and operators to unitless values, following terms have been chosen to describe the system:\\\n",
    "$L$ : physical extent of the space in which the system is defined. Increasing this value increases the real space in which the calculations will be executed,\\\n",
    "$N$ : unitless number of lattice points (per dimension) in which the system is subdivided, \\\n",
    "$a = L/N$ : real space distance between lattice points,\\  \n",
    "$D$ : number of dimensions the system is defined in,\\\n",
    "$r$ : for this specific problem, this is the parameter which describes extension of the potential,\\\n",
    "$\\omega$ : frequency term which defines the potential,\n",
    "\\\n",
    "$\\varepsilon = \\frac{a}{r}$ : unitless term which describes lattice resolution relative to extension of the potential,\\\n",
    "$\\mu = \\frac{m \\omega r^{2}}{\\hbar}$ : dimensionless term originating from the definition of the kinetic energy. Used to convert $E_{kin}$ and $\\hat{p}$ to unitless values.\n",
    "\n",
    "The terms $\\mu, \\varepsilon, N$ are used during the implementation of operators into functions to ensure the results will be unitless. \\\n",
    "As an example, below is the calculation to convert the result of the impulse operator applied to a wavefunction $p\\ket{\\Psi}$ into unitless values $\\hat{p}\\ket{\\hat{\\Psi}}$:\n",
    "\n",
    "$\\hat{p} = \\frac{p}{mass\\cdot length /time} = \\frac{p}{m \\cdot r \\cdot \\omega}$\\\n",
    "\\\n",
    "$\\implies  \\hat{p}\\ket{\\hat{\\Psi}} = \\frac{a^{D/2}}{m \\omega r} p\\ket{\\Psi} = \\frac{a^{D/2}}{m \\omega r}(-i\\hbar)\\nabla\\Psi$\\\n",
    "\\\n",
    "$ = \\frac{-i\\hbar a^{D/2}}{m \\omega r}\\cdot\\frac{\\sum\\limits_{i=0}^D \\hat{\\Psi}(n_{i}+e_{i})- \\hat{\\Psi}(n_{i}-e_{i})}{2a}\\cdot a^{-D/2} $\\\n",
    "\\\n",
    "$ = -\\frac{i}{2}\\cdot\\frac{\\hbar}{m \\omega r}\\cdot\\frac{1}{r}\\cdot\\frac{r}{1}\\cdot\\frac{1}{a}\\sum\\limits_{i=0}^D \\hat{\\Psi}(n_{i}+e_{i})- \\hat{\\Psi}(n_{i}-e_{i})$\\\n",
    "\\\n",
    "$ = -\\frac{i}{2}\\cdot\\frac{1}{\\mu}\\cdot\\frac{1}{\\varepsilon}\\sum\\limits_{i=0}^D \\hat{\\Psi}(n_{i}+e_{i})- \\hat{\\Psi}(n_{i}-e_{i})$\n",
    "\n",
    "\n",
    "### Periodicity\n",
    "\n",
    "The derivative as defined in the lattice discretization requires to acces an arrays neighbouring entries. This poses a problem since we are using finite arrays. One approach to overcome this issue is defining the origin of the system in the center of the array. Since the potential $V$ is symmetrical, the opposite ends of the array will have the same values `array[-N/2] = array[N/2]`. \\\n",
    "The discretized derivative operation $\\hat{\\Psi}(n_{i}+e_{i})- \\hat{\\Psi}(n_{i}-e_{i})$ can therefore be easily implemented using the `numpy.roll` which shifts the entries of the array in the  chosen direction $i$.\n",
    "\n",
    "\n",
    "\n",
    "### Representation of results\n",
    "\n",
    "Representing the eigenfunction of the hamiltonian requires two further steps to ensure unitless-ness:\n",
    "\n",
    "$x$ [units of $a$] $\\rightarrow x\\cdot \\varepsilon$ [unitless] \\\n",
    "$|\\Psi|^{2}$ [units of $a^{-D}$] $\\rightarrow |\\Psi|^{2}/ \\varepsilon^{D}$\n",
    "\n",
    "Example plots can be found in `plotting.ipynb`\n"
   ]
  }
 ],
 "metadata": {
  "kernelspec": {
   "display_name": "base",
   "language": "python",
   "name": "python3"
  },
  "language_info": {
   "codemirror_mode": {
    "name": "ipython",
    "version": 3
   },
   "file_extension": ".py",
   "mimetype": "text/x-python",
   "name": "python",
   "nbconvert_exporter": "python",
   "pygments_lexer": "ipython3",
   "version": "3.11.5"
  }
 },
 "nbformat": 4,
 "nbformat_minor": 2
}
