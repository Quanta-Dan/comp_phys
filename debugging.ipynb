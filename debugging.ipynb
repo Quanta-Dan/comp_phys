{
 "cells": [
  {
   "cell_type": "code",
   "execution_count": 5,
   "metadata": {},
   "outputs": [
    {
     "name": "stderr",
     "output_type": "stream",
     "text": [
      "/Users/gyulaiemese/Desktop/Daniel/comp_phys/functions.py:333: ComplexWarning: Casting complex values to real discards the imaginary part\n",
      "  gaussian[index] =     entry\n"
     ]
    }
   ],
   "source": [
    "from functions import *\n",
    "import functions\n",
    "import matplotlib.pyplot as plt\n",
    "N = 100\n",
    "D = 3\n",
    "L_over_r = 3\n",
    "epsilon = L_over_r/N\n",
    "\n",
    "epsilon_2 = epsilon**2\n",
    "functions.N = N\n",
    "functions.D = D\n",
    "\n",
    "\n",
    "gauss = generate_gauss(np.array((20,)), np.array((20,)), 200)\n",
    "\n",
    "\n",
    "x_axis = np.linspace(-N/2,N/2,N)\n",
    "#x_axis= x_axis*epsilon\n",
    "\n",
    "\n",
    "\n",
    "#plt.plot(x_axis, gauss, label = fr'N={N}, $\\epsilon$={epsilon:.1e}')\n",
    "\n",
    "\n",
    "#plt.legend(loc='upper right')\n",
    "\n",
    "#plt.show()"
   ]
  }
 ],
 "metadata": {
  "kernelspec": {
   "display_name": "base",
   "language": "python",
   "name": "python3"
  },
  "language_info": {
   "codemirror_mode": {
    "name": "ipython",
    "version": 3
   },
   "file_extension": ".py",
   "mimetype": "text/x-python",
   "name": "python",
   "nbconvert_exporter": "python",
   "pygments_lexer": "ipython3",
   "version": "3.11.5"
  }
 },
 "nbformat": 4,
 "nbformat_minor": 2
}
